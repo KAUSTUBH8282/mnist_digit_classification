{
  "nbformat": 4,
  "nbformat_minor": 0,
  "metadata": {
    "colab": {
      "provenance": [],
      "gpuType": "T4"
    },
    "kernelspec": {
      "name": "python3",
      "display_name": "Python 3"
    },
    "language_info": {
      "name": "python"
    },
    "accelerator": "GPU"
  },
  "cells": [
    {
      "cell_type": "code",
      "source": [
        "import torch\n",
        "import torch.nn as nn\n",
        "import torch.optim as optim\n",
        "import torchvision\n",
        "import torchvision.transforms as transforms\n",
        "\n",
        "# Define a simple neural network\n",
        "class SimpleNN(nn.Module):\n",
        "    def __init__(self):\n",
        "        super(SimpleNN, self).__init__()\n",
        "        self.fc1 = nn.Linear(28 * 28, 128)\n",
        "        self.fc2 = nn.Linear(128, 64)\n",
        "        self.fc3 = nn.Linear(64, 10)\n",
        "\n",
        "    def forward(self, x):\n",
        "        x = x.view(-1, 28 * 28)  # Flatten the image\n",
        "        x = torch.relu(self.fc1(x))\n",
        "        x = torch.relu(self.fc2(x))\n",
        "        x = self.fc3(x)\n",
        "        return x\n",
        "\n",
        "# Load and preprocess the data\n",
        "transform = transforms.Compose([transforms.ToTensor(), transforms.Normalize((0.5,), (0.5,))])\n",
        "\n",
        "trainset = torchvision.datasets.MNIST(root='./data', train=True, download=True, transform=transform)\n",
        "trainloader = torch.utils.data.DataLoader(trainset, batch_size=64, shuffle=True)\n",
        "\n",
        "testset = torchvision.datasets.MNIST(root='./data', train=False, download=True, transform=transform)\n",
        "testloader = torch.utils.data.DataLoader(testset, batch_size=64, shuffle=False)\n",
        "\n",
        "# Initialize the network, loss function, and optimizer\n",
        "net = SimpleNN()\n",
        "criterion = nn.CrossEntropyLoss()\n",
        "optimizer = optim.SGD(net.parameters(), lr=0.01, momentum=0.9)\n",
        "\n",
        "# Training the network\n",
        "for epoch in range(5):  # loop over the dataset multiple times\n",
        "    running_loss = 0.0\n",
        "    for i, data in enumerate(trainloader, 0):\n",
        "        inputs, labels = data\n",
        "\n",
        "        optimizer.zero_grad()   # zero the parameter gradients\n",
        "\n",
        "        # forward + backward + optimize\n",
        "        outputs = net(inputs)\n",
        "        loss = criterion(outputs, labels)\n",
        "        loss.backward()\n",
        "        optimizer.step()\n",
        "\n",
        "        # print statistics\n",
        "        running_loss += loss.item()\n",
        "        if i % 100 == 99:    # print every 100 mini-batches\n",
        "            print(f'[Epoch {epoch + 1}, Batch {i + 1}] loss: {running_loss / 100:.3f}')\n",
        "            running_loss = 0.0\n",
        "\n",
        "print('Finished Training')\n",
        "\n",
        "# Testing the network on the test data\n",
        "correct = 0\n",
        "total = 0\n",
        "with torch.no_grad():\n",
        "    for data in testloader:\n",
        "        images, labels = data\n",
        "        outputs = net(images)\n",
        "        _, predicted = torch.max(outputs.data, 1)\n",
        "        total += labels.size(0)\n",
        "        correct += (predicted == labels).sum().item()\n",
        "\n",
        "print(f'Accuracy of the network on the 10000 test images: {100 * correct / total} %')\n"
      ],
      "metadata": {
        "colab": {
          "base_uri": "https://localhost:8080/"
        },
        "id": "iyflXQehM-aM",
        "outputId": "31f475e1-0c8f-4a9d-e560-7069252ea110"
      },
      "execution_count": null,
      "outputs": [
        {
          "output_type": "stream",
          "name": "stdout",
          "text": [
            "Downloading http://yann.lecun.com/exdb/mnist/train-images-idx3-ubyte.gz\n",
            "Failed to download (trying next):\n",
            "HTTP Error 403: Forbidden\n",
            "\n",
            "Downloading https://ossci-datasets.s3.amazonaws.com/mnist/train-images-idx3-ubyte.gz\n",
            "Downloading https://ossci-datasets.s3.amazonaws.com/mnist/train-images-idx3-ubyte.gz to ./data/MNIST/raw/train-images-idx3-ubyte.gz\n"
          ]
        },
        {
          "output_type": "stream",
          "name": "stderr",
          "text": [
            "100%|██████████| 9912422/9912422 [00:00<00:00, 15593041.61it/s]\n"
          ]
        },
        {
          "output_type": "stream",
          "name": "stdout",
          "text": [
            "Extracting ./data/MNIST/raw/train-images-idx3-ubyte.gz to ./data/MNIST/raw\n",
            "\n",
            "Downloading http://yann.lecun.com/exdb/mnist/train-labels-idx1-ubyte.gz\n",
            "Failed to download (trying next):\n",
            "HTTP Error 403: Forbidden\n",
            "\n",
            "Downloading https://ossci-datasets.s3.amazonaws.com/mnist/train-labels-idx1-ubyte.gz\n",
            "Downloading https://ossci-datasets.s3.amazonaws.com/mnist/train-labels-idx1-ubyte.gz to ./data/MNIST/raw/train-labels-idx1-ubyte.gz\n"
          ]
        },
        {
          "output_type": "stream",
          "name": "stderr",
          "text": [
            "100%|██████████| 28881/28881 [00:00<00:00, 469756.71it/s]\n"
          ]
        },
        {
          "output_type": "stream",
          "name": "stdout",
          "text": [
            "Extracting ./data/MNIST/raw/train-labels-idx1-ubyte.gz to ./data/MNIST/raw\n",
            "\n",
            "Downloading http://yann.lecun.com/exdb/mnist/t10k-images-idx3-ubyte.gz\n",
            "Failed to download (trying next):\n",
            "HTTP Error 403: Forbidden\n",
            "\n",
            "Downloading https://ossci-datasets.s3.amazonaws.com/mnist/t10k-images-idx3-ubyte.gz\n",
            "Downloading https://ossci-datasets.s3.amazonaws.com/mnist/t10k-images-idx3-ubyte.gz to ./data/MNIST/raw/t10k-images-idx3-ubyte.gz\n"
          ]
        },
        {
          "output_type": "stream",
          "name": "stderr",
          "text": [
            "100%|██████████| 1648877/1648877 [00:00<00:00, 4258957.68it/s]\n"
          ]
        },
        {
          "output_type": "stream",
          "name": "stdout",
          "text": [
            "Extracting ./data/MNIST/raw/t10k-images-idx3-ubyte.gz to ./data/MNIST/raw\n",
            "\n",
            "Downloading http://yann.lecun.com/exdb/mnist/t10k-labels-idx1-ubyte.gz\n",
            "Failed to download (trying next):\n",
            "HTTP Error 403: Forbidden\n",
            "\n",
            "Downloading https://ossci-datasets.s3.amazonaws.com/mnist/t10k-labels-idx1-ubyte.gz\n",
            "Downloading https://ossci-datasets.s3.amazonaws.com/mnist/t10k-labels-idx1-ubyte.gz to ./data/MNIST/raw/t10k-labels-idx1-ubyte.gz\n"
          ]
        },
        {
          "output_type": "stream",
          "name": "stderr",
          "text": [
            "100%|██████████| 4542/4542 [00:00<00:00, 10381759.55it/s]\n"
          ]
        },
        {
          "output_type": "stream",
          "name": "stdout",
          "text": [
            "Extracting ./data/MNIST/raw/t10k-labels-idx1-ubyte.gz to ./data/MNIST/raw\n",
            "\n",
            "[Epoch 1, Batch 100] loss: 1.426\n",
            "[Epoch 1, Batch 200] loss: 0.524\n",
            "[Epoch 1, Batch 300] loss: 0.387\n",
            "[Epoch 1, Batch 400] loss: 0.360\n",
            "[Epoch 1, Batch 500] loss: 0.307\n",
            "[Epoch 1, Batch 600] loss: 0.293\n",
            "[Epoch 1, Batch 700] loss: 0.254\n",
            "[Epoch 1, Batch 800] loss: 0.237\n",
            "[Epoch 1, Batch 900] loss: 0.225\n",
            "[Epoch 2, Batch 100] loss: 0.192\n",
            "[Epoch 2, Batch 200] loss: 0.203\n",
            "[Epoch 2, Batch 300] loss: 0.193\n",
            "[Epoch 2, Batch 400] loss: 0.176\n",
            "[Epoch 2, Batch 500] loss: 0.154\n",
            "[Epoch 2, Batch 600] loss: 0.180\n",
            "[Epoch 2, Batch 700] loss: 0.180\n",
            "[Epoch 2, Batch 800] loss: 0.176\n",
            "[Epoch 2, Batch 900] loss: 0.163\n",
            "[Epoch 3, Batch 100] loss: 0.137\n",
            "[Epoch 3, Batch 200] loss: 0.143\n",
            "[Epoch 3, Batch 300] loss: 0.140\n",
            "[Epoch 3, Batch 400] loss: 0.128\n",
            "[Epoch 3, Batch 500] loss: 0.130\n",
            "[Epoch 3, Batch 600] loss: 0.128\n",
            "[Epoch 3, Batch 700] loss: 0.123\n",
            "[Epoch 3, Batch 800] loss: 0.117\n",
            "[Epoch 3, Batch 900] loss: 0.130\n",
            "[Epoch 4, Batch 100] loss: 0.102\n",
            "[Epoch 4, Batch 200] loss: 0.102\n",
            "[Epoch 4, Batch 300] loss: 0.115\n",
            "[Epoch 4, Batch 400] loss: 0.097\n",
            "[Epoch 4, Batch 500] loss: 0.112\n",
            "[Epoch 4, Batch 600] loss: 0.107\n",
            "[Epoch 4, Batch 700] loss: 0.097\n",
            "[Epoch 4, Batch 800] loss: 0.094\n",
            "[Epoch 4, Batch 900] loss: 0.103\n",
            "[Epoch 5, Batch 100] loss: 0.095\n",
            "[Epoch 5, Batch 200] loss: 0.083\n",
            "[Epoch 5, Batch 300] loss: 0.083\n",
            "[Epoch 5, Batch 400] loss: 0.089\n",
            "[Epoch 5, Batch 500] loss: 0.083\n",
            "[Epoch 5, Batch 600] loss: 0.096\n",
            "[Epoch 5, Batch 700] loss: 0.092\n",
            "[Epoch 5, Batch 800] loss: 0.091\n",
            "[Epoch 5, Batch 900] loss: 0.075\n",
            "Finished Training\n",
            "Accuracy of the network on the 10000 test images: 96.96 %\n"
          ]
        }
      ]
    },
    {
      "cell_type": "code",
      "source": [
        "import matplotlib.pyplot as plt\n",
        "\n",
        "# Pick an image from the test set\n",
        "dataiter = iter(testloader)\n",
        "images, labels = next(dataiter)  # Use the `next()` function\n",
        "\n",
        "# Select the first image (you can change the index to pick another)\n",
        "img = images[63]\n",
        "label = labels[63]\n",
        "\n",
        "# Display the image\n",
        "plt.imshow(img.numpy().squeeze(), cmap='gray')\n",
        "plt.title(f'Ground Truth: {label.item()}')\n",
        "plt.show()\n",
        "\n",
        "# Predict using the model\n",
        "with torch.no_grad():\n",
        "    img = img.unsqueeze(0)  # Add batch dimension\n",
        "    output = net(img)\n",
        "    _, predicted = torch.max(output.data, 1)\n",
        "    print(f'Predicted: {predicted.item()}')\n"
      ],
      "metadata": {
        "colab": {
          "base_uri": "https://localhost:8080/",
          "height": 469
        },
        "id": "q7SRlN7OOj2a",
        "outputId": "ae6d217c-cf14-4fbb-f5ad-d656d99e973b"
      },
      "execution_count": null,
      "outputs": [
        {
          "output_type": "display_data",
          "data": {
            "text/plain": [
              "<Figure size 640x480 with 1 Axes>"
            ],
            "image/png": "[encoded data removed]"
          },
          "metadata": {}
        },
        {
          "output_type": "stream",
          "name": "stdout",
          "text": [
            "Predicted: 3\n"
          ]
        }
      ]
    },
    {
      "cell_type": "code",
      "source": [],
      "metadata": {
        "id": "WRMxbQoFRVMw"
      },
      "execution_count": null,
      "outputs": []
    }
  ]
}